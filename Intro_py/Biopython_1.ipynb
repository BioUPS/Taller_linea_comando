{
 "cells": [
  {
   "cell_type": "markdown",
   "id": "2521f263",
   "metadata": {},
   "source": [
    "# Práctica Biopython \n",
    "\n",
    "### Ivonne Vaca\n",
    "\n",
    "Creando celdas\n",
    "Nueva celdas A y B \n",
    "\n",
    "Tipo de celda: \n",
    "* Código: Y\n",
    "* Markdown: M\n",
    "\n",
    "Eliminar celda X\n",
    "\n",
    "Se sugiere siempre adicionar comentarios (#)\n",
    "\n",
    "Para correr la función, tenemos el botón \"Run\" o usamos CTRL+ENTER\n",
    "\n",
    "* Los números se escriben solos\n",
    "* El texto se escribe entre \"comillas\""
   ]
  },
  {
   "cell_type": "code",
   "execution_count": 9,
   "id": "d1549eb1",
   "metadata": {},
   "outputs": [],
   "source": [
    "# Creación de variables \n",
    "\n",
    "var1= 10\n",
    "var2= 245"
   ]
  },
  {
   "cell_type": "code",
   "execution_count": 10,
   "id": "c9716635",
   "metadata": {},
   "outputs": [
    {
     "name": "stdout",
     "output_type": "stream",
     "text": [
      "10 245\n"
     ]
    }
   ],
   "source": [
    "# ver las variables\n",
    "\n",
    "print (var1, var2)"
   ]
  },
  {
   "cell_type": "code",
   "execution_count": 11,
   "id": "eb6a0206",
   "metadata": {},
   "outputs": [
    {
     "name": "stdout",
     "output_type": "stream",
     "text": [
      "24.5\n"
     ]
    }
   ],
   "source": [
    "#realizar operaciones\n",
    "var3= var2/var1\n",
    "print(var3)"
   ]
  },
  {
   "cell_type": "code",
   "execution_count": 12,
   "id": "6d4c9f4f",
   "metadata": {},
   "outputs": [
    {
     "name": "stdout",
     "output_type": "stream",
     "text": [
      "ACTCGATAGATCGATTGGGA\n"
     ]
    }
   ],
   "source": [
    "#Secuencia de ADN\n",
    "\n",
    "ADN1=\"ACTCGATAGATCGATTGGGA\"\n",
    "print(ADN1)"
   ]
  },
  {
   "cell_type": "code",
   "execution_count": 13,
   "id": "acf16950",
   "metadata": {
    "scrolled": true
   },
   "outputs": [
    {
     "name": "stdout",
     "output_type": "stream",
     "text": [
      "Ingrese su nombre: ivo\n",
      "Ingrese su secuencia: ATACGATCGAGACagatcagaATAGAGCAGATA\n",
      "Hola ivo ,usted ha ingresado la siguiente secuencia:  ATACGATCGAGACagatcagaATAGAGCAGATA\n"
     ]
    }
   ],
   "source": [
    "#Creando un programa e interactuar con el usuario:\n",
    "\n",
    "nombre = input(\"Ingrese su nombre: \")\n",
    "\n",
    "adn = input(\"Ingrese su secuencia: \")\n",
    "\n",
    "print(\"Hola\", nombre, \",usted ha ingresado la siguiente secuencia: \",adn)\n"
   ]
  },
  {
   "cell_type": "code",
   "execution_count": 29,
   "id": "0baab23a",
   "metadata": {},
   "outputs": [
    {
     "name": "stdout",
     "output_type": "stream",
     "text": [
      "ATACGATCGAGACAGATCAGAATAGAGCAGATA\n"
     ]
    }
   ],
   "source": [
    "#Homogenizando la secuencia: Corrijamos por si la secuencia fuese escrita con espacios, mayúsculas, minúsculas\n",
    "\n",
    "#Mayúsculas\n",
    "print(adn.upper())"
   ]
  },
  {
   "cell_type": "code",
   "execution_count": 30,
   "id": "97233ff5",
   "metadata": {},
   "outputs": [
    {
     "name": "stdout",
     "output_type": "stream",
     "text": [
      "ATACGATCGAGACAGATCAGAATAGAGCAGATA\n"
     ]
    }
   ],
   "source": [
    "#Eliminamos espacios \n",
    "print(adn.replace(\" \",\"\"))\n"
   ]
  },
  {
   "cell_type": "code",
   "execution_count": 31,
   "id": "3c3c6b20",
   "metadata": {},
   "outputs": [
    {
     "name": "stdout",
     "output_type": "stream",
     "text": [
      "ATACGATCGAGACAGATCAGAATAGAGCAGATA\n"
     ]
    }
   ],
   "source": [
    "#Ponemos las dos funciones juntas\n",
    "adn=adn.upper().replace(\" \",\"\")\n",
    "\n",
    "print(adn)"
   ]
  },
  {
   "cell_type": "markdown",
   "id": "86691ab6",
   "metadata": {},
   "source": [
    "### Posición inicial\n",
    "\n",
    "En Python las cadenas comienzan con la posición\n",
    "0, entonces la segunda posición es 1, el tercero es 2, etcétera"
   ]
  },
  {
   "cell_type": "code",
   "execution_count": 17,
   "id": "bb81e153",
   "metadata": {},
   "outputs": [
    {
     "data": {
      "text/plain": [
       "('A', 'A', 'G')"
      ]
     },
     "execution_count": 17,
     "metadata": {},
     "output_type": "execute_result"
    }
   ],
   "source": [
    "#Puedo encontrar una o varias bases en una posición específica, en este caso la primera posición = 0\n",
    "adn[0],adn[5],adn[10]"
   ]
  },
  {
   "cell_type": "code",
   "execution_count": 18,
   "id": "f0f07b31",
   "metadata": {},
   "outputs": [
    {
     "name": "stdout",
     "output_type": "stream",
     "text": [
      "33\n"
     ]
    }
   ],
   "source": [
    "#Longitud de la cadena\n",
    "\n",
    "seq_len=len(adn)\n",
    "print(seq_len)"
   ]
  },
  {
   "cell_type": "code",
   "execution_count": 19,
   "id": "954a7586",
   "metadata": {},
   "outputs": [
    {
     "name": "stdout",
     "output_type": "stream",
     "text": [
      "ATACGATCGAGACAGATCAGAATAGAGCAGATA\n",
      "A\n",
      "G\n",
      "G\n",
      "A\n"
     ]
    }
   ],
   "source": [
    "#imprimiento diferentes nucleotidos por posición\n",
    "print(adn)\n",
    "print(adn[0])\n",
    "print(adn[4])\n",
    "print(adn[10])\n",
    "print(adn[-1]) #última letra"
   ]
  },
  {
   "cell_type": "code",
   "execution_count": 20,
   "id": "37f78de4",
   "metadata": {},
   "outputs": [
    {
     "name": "stdout",
     "output_type": "stream",
     "text": [
      "8\n",
      "5\n",
      "5\n",
      "3\n",
      "ATACGATCGAGACAGATCAGAATAGAGCAGATA\n"
     ]
    }
   ],
   "source": [
    "#Función count me ayuda a contar\n",
    "\n",
    "print(adn.count(\"G\"))\n",
    "print(adn.count(\"C\"))\n",
    "print(adn.count(\"AT\"))\n",
    "print(adn.count(\"TA\"))\n",
    "print(adn)"
   ]
  },
  {
   "cell_type": "code",
   "execution_count": 21,
   "id": "40ca69e5",
   "metadata": {},
   "outputs": [
    {
     "name": "stdout",
     "output_type": "stream",
     "text": [
      "El porcentaje de adeninas (A) es: 45.45 %\n"
     ]
    }
   ],
   "source": [
    "# Porcentaje de bases en la cadena de ADN\n",
    "#Contando adeninas (A)\n",
    "\n",
    "NumA=adn.count(\"A\")\n",
    "\n",
    "Porcentaje=100*NumA/seq_len\n",
    "\n",
    "print(\"El porcentaje de adeninas (A) es:\", round(Porcentaje,2), \"%\")"
   ]
  },
  {
   "cell_type": "markdown",
   "id": "47f41de2",
   "metadata": {},
   "source": [
    "## Instalar Biopython (Biopython es un repertorio de paquetes) y otros paquetes"
   ]
  },
  {
   "cell_type": "code",
   "execution_count": 22,
   "id": "68ba3034",
   "metadata": {
    "scrolled": false
   },
   "outputs": [
    {
     "name": "stdout",
     "output_type": "stream",
     "text": [
      "Defaulting to user installation because normal site-packages is not writeable\n",
      "Requirement already satisfied: biopython in /home/lubu/.local/lib/python3.10/site-packages (1.83)\n",
      "Requirement already satisfied: numpy in /usr/lib/python3/dist-packages (from biopython) (1.21.5)\n",
      "Note: you may need to restart the kernel to use updated packages.\n"
     ]
    }
   ],
   "source": [
    "pip install biopython"
   ]
  },
  {
   "cell_type": "code",
   "execution_count": 23,
   "id": "06bda385",
   "metadata": {},
   "outputs": [
    {
     "name": "stdout",
     "output_type": "stream",
     "text": [
      "Defaulting to user installation because normal site-packages is not writeable\n",
      "Requirement already satisfied: dna_features_viewer in /home/lubu/.local/lib/python3.10/site-packages (3.1.3)\n",
      "Requirement already satisfied: packaging in /usr/lib/python3/dist-packages (from dna_features_viewer) (21.3)\n",
      "Requirement already satisfied: Biopython in /home/lubu/.local/lib/python3.10/site-packages (from dna_features_viewer) (1.83)\n",
      "Requirement already satisfied: matplotlib>=3 in /usr/lib/python3/dist-packages (from dna_features_viewer) (3.5.1)\n",
      "Requirement already satisfied: numpy in /usr/lib/python3/dist-packages (from Biopython->dna_features_viewer) (1.21.5)\n",
      "Note: you may need to restart the kernel to use updated packages.\n"
     ]
    }
   ],
   "source": [
    "pip install dna_features_viewer"
   ]
  },
  {
   "cell_type": "code",
   "execution_count": 24,
   "id": "5dd7e72c",
   "metadata": {},
   "outputs": [
    {
     "name": "stdout",
     "output_type": "stream",
     "text": [
      "Defaulting to user installation because normal site-packages is not writeable\n",
      "Requirement already satisfied: matplotlib in /usr/lib/python3/dist-packages (3.5.1)\n",
      "Note: you may need to restart the kernel to use updated packages.\n"
     ]
    }
   ],
   "source": [
    "pip install matplotlib"
   ]
  },
  {
   "cell_type": "markdown",
   "id": "416e4b80",
   "metadata": {},
   "source": [
    "Desde Biopython importamos subpaquetes"
   ]
  },
  {
   "cell_type": "code",
   "execution_count": 25,
   "id": "5e29a7ae",
   "metadata": {},
   "outputs": [],
   "source": [
    "from Bio.Seq import Seq"
   ]
  },
  {
   "cell_type": "code",
   "execution_count": 57,
   "id": "53b82674",
   "metadata": {},
   "outputs": [
    {
     "name": "stdout",
     "output_type": "stream",
     "text": [
      "ATGCGAAGCAGACATTAA\n"
     ]
    }
   ],
   "source": [
    "#Ahora generemos una secuencia con una diversidad de funciones nuevas, usando Seq:\n",
    "adn = Seq(\"ATGCGAAGCAGACATTAA\")\n",
    "print(adn)"
   ]
  },
  {
   "cell_type": "markdown",
   "id": "2589aef6",
   "metadata": {},
   "source": [
    "Biopython toma el concepto de secuencia y lo convierte en un \"objeto\". La programación orientada a objetos es un paradigma en informática donde el concepto central es el \"objeto\" y existen \"métodos\" definidos que se pueden aplicar a estos objetos.\n",
    "\n",
    " Los objetos se definen como es de esperar, como unidades discretas que se ajustan a algún conjunto de parámetros o especificaciones definidas por una \"clase\". Por ejemplo, el objeto de secuencia.\n",
    "x ->  definido anteriormente tiene algunas características similares a las que podría tener una molécula de ADN física."
   ]
  },
  {
   "cell_type": "markdown",
   "id": "92efaa90",
   "metadata": {},
   "source": [
    "## Dogma central\n",
    "\n",
    "Consideremos ahora el dogma central de la biología molecular. El dogma central establece que la información biológica generalmente fluye del ADN al ARN y a las proteínas.\n",
    "\n",
    "De manera similar, con Biopython podemos crear objetos correspondientes a secuencias de ADN, ARN y Proteínas. Podemos usar métodos en estos objetos para transcribir el ADN y traducir el ARN a una proteína.\n",
    "\n",
    "Podemos transcribir nuestra secuencia de ADN, para ello vamos a definir la función:"
   ]
  },
  {
   "cell_type": "code",
   "execution_count": 58,
   "id": "b125f84d",
   "metadata": {},
   "outputs": [
    {
     "name": "stdout",
     "output_type": "stream",
     "text": [
      "ADN: ATGCGAAGCAGACATTAA\n",
      "ARN: AUGCGAAGCAGACAUUAA\n"
     ]
    }
   ],
   "source": [
    "#Creamos la función transcribe (manual)\n",
    "def transcribe(self):\n",
    "    rna = self._data.replace('T', 'U')\n",
    "    return Seq(rna, alphabet=RNAAlphabet())\n",
    "\n",
    "# Trancribiendo la secuencia\n",
    "arn = adn.transcribe()\n",
    "print(\"ADN:\", adn)\n",
    "print(\"ARN:\", arn)"
   ]
  },
  {
   "cell_type": "markdown",
   "id": "8b684677",
   "metadata": {},
   "source": [
    "Si importamos modulos y funciones, no será necesario definirlas, por ejemplo:"
   ]
  },
  {
   "cell_type": "code",
   "execution_count": 36,
   "id": "fbd1e8ff",
   "metadata": {},
   "outputs": [],
   "source": [
    "import os\n",
    "import sys\n",
    "\n",
    "from urllib.request import urlretrieve\n",
    "\n",
    "import Bio\n",
    "from Bio.SeqUtils import gc_fraction\n",
    "from Bio.Blast import NCBIWWW\n"
   ]
  },
  {
   "cell_type": "code",
   "execution_count": 59,
   "id": "9419fb97",
   "metadata": {},
   "outputs": [
    {
     "name": "stdout",
     "output_type": "stream",
     "text": [
      "TACGCTTCGTCTGTAATT\n"
     ]
    }
   ],
   "source": [
    "#Pero usemos las funciones del paquete\n",
    "#Cadena complementaria\n",
    "\n",
    "print(adn.complement())"
   ]
  },
  {
   "cell_type": "code",
   "execution_count": 60,
   "id": "ec470f32",
   "metadata": {},
   "outputs": [
    {
     "name": "stdout",
     "output_type": "stream",
     "text": [
      "TTAATGTCTGCTTCGCAT\n"
     ]
    }
   ],
   "source": [
    "#Cadena complementaria inversa\n",
    "print(adn.reverse_complement())"
   ]
  },
  {
   "cell_type": "code",
   "execution_count": 61,
   "id": "64216a0e",
   "metadata": {},
   "outputs": [
    {
     "name": "stdout",
     "output_type": "stream",
     "text": [
      "AUGCGAAGCAGACAUUAA\n"
     ]
    }
   ],
   "source": [
    "# ARNm\n",
    "print(adn.transcribe())"
   ]
  },
  {
   "cell_type": "code",
   "execution_count": 62,
   "id": "e52ac2a5",
   "metadata": {},
   "outputs": [
    {
     "name": "stdout",
     "output_type": "stream",
     "text": [
      "MRSRH*\n"
     ]
    }
   ],
   "source": [
    "# proteína (* = STOP)\n",
    "print(adn.translate())"
   ]
  },
  {
   "cell_type": "code",
   "execution_count": 64,
   "id": "e7266f17",
   "metadata": {},
   "outputs": [
    {
     "name": "stdout",
     "output_type": "stream",
     "text": [
      "MRS*H*\n"
     ]
    }
   ],
   "source": [
    "# proteína CON OTRA TABLA \n",
    "print(adn.translate(table=2))"
   ]
  },
  {
   "cell_type": "code",
   "execution_count": 69,
   "id": "5b129f1c",
   "metadata": {},
   "outputs": [
    {
     "name": "stdout",
     "output_type": "stream",
     "text": [
      "MRS@H@\n"
     ]
    }
   ],
   "source": [
    "# proteína con un signo diferentes de stop\n",
    "print(adn.translate(table=2,stop_symbol=\"@\"))"
   ]
  },
  {
   "cell_type": "markdown",
   "id": "37efe544",
   "metadata": {},
   "source": [
    "Importamos este paquete para ver las tablas de codones"
   ]
  },
  {
   "cell_type": "code",
   "execution_count": 65,
   "id": "e9b7167f",
   "metadata": {},
   "outputs": [],
   "source": [
    "from Bio.Data import CodonTable"
   ]
  },
  {
   "cell_type": "code",
   "execution_count": 70,
   "id": "c4ef3484",
   "metadata": {},
   "outputs": [
    {
     "name": "stdout",
     "output_type": "stream",
     "text": [
      "Table 10 Euplotid Nuclear, SGC9\n",
      "\n",
      "  |  T      |  C      |  A      |  G      |\n",
      "--+---------+---------+---------+---------+--\n",
      "T | TTT F   | TCT S   | TAT Y   | TGT C   | T\n",
      "T | TTC F   | TCC S   | TAC Y   | TGC C   | C\n",
      "T | TTA L   | TCA S   | TAA Stop| TGA C   | A\n",
      "T | TTG L   | TCG S   | TAG Stop| TGG W   | G\n",
      "--+---------+---------+---------+---------+--\n",
      "C | CTT L   | CCT P   | CAT H   | CGT R   | T\n",
      "C | CTC L   | CCC P   | CAC H   | CGC R   | C\n",
      "C | CTA L   | CCA P   | CAA Q   | CGA R   | A\n",
      "C | CTG L   | CCG P   | CAG Q   | CGG R   | G\n",
      "--+---------+---------+---------+---------+--\n",
      "A | ATT I   | ACT T   | AAT N   | AGT S   | T\n",
      "A | ATC I   | ACC T   | AAC N   | AGC S   | C\n",
      "A | ATA I   | ACA T   | AAA K   | AGA R   | A\n",
      "A | ATG M(s)| ACG T   | AAG K   | AGG R   | G\n",
      "--+---------+---------+---------+---------+--\n",
      "G | GTT V   | GCT A   | GAT D   | GGT G   | T\n",
      "G | GTC V   | GCC A   | GAC D   | GGC G   | C\n",
      "G | GTA V   | GCA A   | GAA E   | GGA G   | A\n",
      "G | GTG V   | GCG A   | GAG E   | GGG G   | G\n",
      "--+---------+---------+---------+---------+--\n"
     ]
    }
   ],
   "source": [
    "#Podemos visualizar las diferentes tablas de codones (depende del número)\n",
    "print(CodonTable.unambiguous_dna_by_id[10])"
   ]
  },
  {
   "cell_type": "markdown",
   "id": "d151b3fe",
   "metadata": {},
   "source": [
    "## Gráficos \n",
    "Importar otro paquete, para realizar gráficos"
   ]
  },
  {
   "cell_type": "code",
   "execution_count": 71,
   "id": "6c7ee69d",
   "metadata": {},
   "outputs": [],
   "source": [
    "from dna_features_viewer import GraphicFeature, GraphicRecord"
   ]
  },
  {
   "cell_type": "code",
   "execution_count": 81,
   "id": "91f01f17",
   "metadata": {},
   "outputs": [
    {
     "data": {
      "text/plain": [
       "(<AxesSubplot:>,\n",
       " ({GF(Promotor1, 90-120 (1)): 0,\n",
       "   GF(Gen1, 200-550 (1)): 1.0,\n",
       "   GF(Gen2, 500-874 (-1)): 0,\n",
       "   GF(Promotor2, 900-920 (-1)): 0},\n",
       "  {GF(Promotor1, 90-120 (1)): {'feature_y': 0, 'annotation_y': 1.0},\n",
       "   GF(Promotor2, 900-920 (-1)): {'feature_y': 0, 'annotation_y': 1.0}}))"
      ]
     },
     "execution_count": 81,
     "metadata": {},
     "output_type": "execute_result"
    },
    {
     "data": {
      "image/png": "[encoded data removed]",
      "text/plain": [
       "<Figure size 576x158.4 with 1 Axes>"
      ]
     },
     "metadata": {},
     "output_type": "display_data"
    }
   ],
   "source": [
    "caracts=[GraphicFeature(start=90, end=120, strand=+1,color=\"blue\", label=\"Promotor1\"),\n",
    "        GraphicFeature(start=200, end=550, strand=+1,color=\"skyblue\", label=\"Gen1\"),\n",
    "        GraphicFeature(start=500, end=874, strand=-1,color=\"red\", label=\"Gen2\"),\n",
    "        GraphicFeature(start=900, end=920, strand=-1,color=\"blue\", label=\"Promotor2\")]\n",
    "\n",
    "graphic=GraphicRecord(sequence_length=1000, features=caracts)\n",
    "\n",
    "graphic.plot()\n"
   ]
  },
  {
   "cell_type": "markdown",
   "id": "aa2f398b",
   "metadata": {},
   "source": [
    "Ejemplo:\n",
    "Promotor1:inicia en 90 y termina en 120, dirección (+1)=derecha "
   ]
  },
  {
   "cell_type": "markdown",
   "id": "e0dd5362",
   "metadata": {},
   "source": [
    "### Dibujando un plásmido\n",
    "\n",
    "Usamos un paquete que nos permite hacer un gráfico circular"
   ]
  },
  {
   "cell_type": "code",
   "execution_count": 84,
   "id": "9b85a716",
   "metadata": {},
   "outputs": [],
   "source": [
    "from dna_features_viewer import CircularGraphicRecord"
   ]
  },
  {
   "cell_type": "code",
   "execution_count": 85,
   "id": "b7840ad8",
   "metadata": {},
   "outputs": [
    {
     "data": {
      "text/plain": [
       "(<AxesSubplot:>,\n",
       " ({GF(Promotor1, 90-120 (1)): 0,\n",
       "   GF(Gen1, 200-550 (1)): 1.0,\n",
       "   GF(Gen2, 500-874 (-1)): 0,\n",
       "   GF(Promotor2, 900-920 (-1)): 0},\n",
       "  {GF(Gen2, 500-874 (-1)): {'feature_y': -1.3884807466313662,\n",
       "    'annotation_y': 0.7},\n",
       "   GF(Gen1, 200-550 (1)): {'feature_y': -1.8458582247308335,\n",
       "    'annotation_y': 0.7},\n",
       "   GF(Promotor1, 90-120 (1)): {'feature_y': -0.20792338575003289,\n",
       "    'annotation_y': 0.45},\n",
       "   GF(Promotor2, 900-920 (-1)): {'feature_y': -0.1573595878395675,\n",
       "    'annotation_y': 0.45}}))"
      ]
     },
     "execution_count": 85,
     "metadata": {},
     "output_type": "execute_result"
    },
    {
     "data": {
      "image/png": "[encoded data removed]",
      "text/plain": [
       "<Figure size 576x730.286 with 1 Axes>"
      ]
     },
     "metadata": {
      "needs_background": "light"
     },
     "output_type": "display_data"
    }
   ],
   "source": [
    "graphic1=CircularGraphicRecord(sequence_length=1000, features=caracts)\n",
    "graphic1.plot()"
   ]
  },
  {
   "cell_type": "markdown",
   "id": "23bb76ef",
   "metadata": {},
   "source": [
    "Vamos a graficar un plásmido con información desde NCBI\n",
    "\n",
    "Importamos Entrez para las búsqueda en internet, y otros para leer los archivos"
   ]
  },
  {
   "cell_type": "code",
   "execution_count": 90,
   "id": "b81317d9",
   "metadata": {},
   "outputs": [],
   "source": [
    "from Bio import SeqIO, SearchIO, Entrez"
   ]
  },
  {
   "cell_type": "code",
   "execution_count": 92,
   "id": "7d29c34e",
   "metadata": {},
   "outputs": [
    {
     "name": "stdout",
     "output_type": "stream",
     "text": [
      "{'Count': '35', 'RetMax': '35', 'RetStart': '0', 'IdList': ['2580284035', '2247533236', '2089725547', '1959114186', '1938232645', '1723414508', '1473096481', '1473096477', '1140334558', '1140334476', '1140334386', '1140334292', '1047836675', '1047836669', '1047836656', '1047836650', '1047836644', '1047836638', '38490698', '954037740', '954037737', '1008260932', '1008260929', '1008260926', '957762081', '952984624', '952984621', '952984618', '952984615', '319759856', '319759853', '319759849', '31335236', '161936400', '15721870'], 'TranslationSet': [{'From': 'cloning vector', 'To': '\"unidentified cloning vector\"[Organism] OR cloning vector[All Fields]'}], 'TranslationStack': [{'Term': '\"unidentified cloning vector\"[Organism]', 'Field': 'Organism', 'Count': '374', 'Explode': 'Y'}, {'Term': 'cloning vector[All Fields]', 'Field': 'All Fields', 'Count': '563643', 'Explode': 'N'}, 'OR', 'GROUP', {'Term': 'pBac[All Fields]', 'Field': 'All Fields', 'Count': '91424', 'Explode': 'N'}, 'AND', 'GROUP'], 'QueryTranslation': '(\"unidentified cloning vector\"[Organism] OR cloning vector[All Fields]) AND pBac[All Fields]'}\n"
     ]
    }
   ],
   "source": [
    "#Debo registrarme\n",
    "\n",
    "Entrez.email=\"ivaca@ups.edu.ec\"\n",
    "file=Entrez.esearch(db=\"nucleotide\",term=\"cloning vector pBac\", retmax=\"40\")\n",
    "\n",
    "record=Entrez.read(file)\n",
    "print(record)\n",
    "#El resultados serán los identificadores de la búsqueda\n",
    "#Elegimos BD= nucleotidos, terminos de búsqueda, número de resultados máximo\n"
   ]
  },
  {
   "cell_type": "code",
   "execution_count": 95,
   "id": "6d473f8d",
   "metadata": {},
   "outputs": [
    {
     "name": "stdout",
     "output_type": "stream",
     "text": [
      "ID: MH541847.1\n",
      "Name: MH541847\n",
      "Description: Cloning vector pBac[AttB-3xP3::RFP-zpg-hCas9-U6-4050T1gRNA-AttB], complete sequence\n",
      "Number of features: 20\n",
      "/molecule_type=DNA\n",
      "/topology=circular\n",
      "/data_file_division=SYN\n",
      "/date=12-SEP-2018\n",
      "/accessions=['MH541847']\n",
      "/sequence_version=1\n",
      "/keywords=['']\n",
      "/source=Cloning vector pBac[AttB-3xP3::RFP-zpg-hCas9-U6-4050T1gRNA-AttB]\n",
      "/organism=Cloning vector pBac[AttB-3xP3::RFP-zpg-hCas9-U6-4050T1gRNA-AttB]\n",
      "/taxonomy=['other sequences', 'artificial sequences', 'vectors']\n",
      "/references=[Reference(title='A CRISPR-Cas9 gene drive system targeting the doublesex gene causes complete population suppression in caged populations of Anopheles gambiae mosquitoes without inducing resistance', ...), Reference(title='Direct Submission', ...)]\n",
      "/structured_comment=defaultdict(<class 'dict'>, {'Assembly-Data': {'Sequencing Technology': 'Sanger dideoxy sequencing'}})\n",
      "Seq('AAATAATTCTCATATATCAAGCAAAGTGACAGGCGCCCTTAAATATTCTGACAA...GTT')\n"
     ]
    }
   ],
   "source": [
    "# Ahora buscaremos el código con el identificador, y podemos ver la información que contiene\n",
    "\n",
    "file=Entrez.efetch(db=\"nucleotide\", id=\"1473096481\", rettype=\"gb\", retmode=\"text\")\n",
    "\n",
    "record=SeqIO.read(file, \"genbank\")\n",
    "print(record)"
   ]
  },
  {
   "cell_type": "code",
   "execution_count": 96,
   "id": "a6bcaad8",
   "metadata": {},
   "outputs": [
    {
     "name": "stdout",
     "output_type": "stream",
     "text": [
      "AAATAATTCTCATATATCAAGCAAAGTGACAGGCGCCCTTAAATATTCTGACAAATGCTCTTTCCCTAAACTCCCCCCATAAAAAAACCCGCCGAAGCGGGTTTTTACGTTATTTGCGGATTAACGATTACTCGTTATCAGAACCGCCCAGGGGGCCCGAGCTTAAGACTGGCCGTCGTTTTACAACACAGAAAGAGTTTGTAGAAACGCAAAAAGGCCATCCGTCAGGGGCCTTCTGCTTAGTTTGATGCCTGGCAGTTCCCTACTCTCGCCTTCCGCTTCCTCGCTCACTGACTCGCTGCGCTCGGTCGTTCGGCTGCGGCGAGCGGTATCAGCTCACTCAAAGGCGGTAATACGGTTATCCACAGAATCAGGGGATAACGCAGGAAAGAACATGTGAGCAAAAGGCCAGCAAAAGGCCAGGAACCGTAAAAAGGCCGCGTTGCTGGCGTTTTTCCATAGGCTCCGCCCCCCTGACGAGCATCACAAAAATCGACGCTCAAGTCAGAGGTGGCGAAACCCGACAGGACTATAAAGATACCAGGCGTTTCCCCCTGGAAGCTCCCTCGTGCGCTCTCCTGTTCCGACCCTGCCGCTTACCGGATACCTGTCCGCCTTTCTCCCTTCGGGAAGCGTGGCGCTTTCTCATAGCTCACGCTGTAGGTATCTCAGTTCGGTGTAGGTCGTTCGCTCCAAGCTGGGCTGTGTGCACGAACCCCCCGTTCAGCCCGACCGCTGCGCCTTATCCGGTAACTATCGTCTTGAGTCCAACCCGGTAAGACACGACTTATCGCCACTGGCAGCAGCCACTGGTAACAGGATTAGCAGAGCGAGGTATGTAGGCGGTGCTACAGAGTTCTTGAAGTGGTGGGCTAACTACGGCTACACTAGAAGAACAGTATTTGGTATCTGCGCTCTGCTGAAGCCAGTTACCTTCGGAAAAAGAGTTGGTAGCTCTTGATCCGGCAAACAAACCACCGCTGGTAGCGGTGGTTTTTTTGTTTGCAAGCAGCAGATTACGCGCAGAAAAAAAGGATCTCAAGAAGATCCTTTGATCTTTTCTACGGGGTCTGACGCTCAGTGGAACGACGCGCGCGTAACTCACGTTAAGGGATTTTGGTCATGAGCTTGCGCCGTCCCGTCAAGTCAGCGTATTTTCGAGACGTTACGCCCCGCCCTGCCACTCATCGCAGTACTGTTGTAATTCATTAAGCATTCTGCCGACATGGAAGCCATCACAAACGGCATGATGAACCTGAATCGCCAGCGGCATCAGCACCTTGTCGCCTTGCGTATAATATTTGCCCATGGTGAAAACGGGGGCGAAGAAGTTGTCCATATTGGCCACGTTTAAATCAAAACTGGTGAAACTCACCCAGGGATTGGCTGACACGAAAAACATATTCTCAATAAATCCTTTAGGGAAATAGGCCAGGTTTTCACCGTAACACGCCACATCTTGCGAATATATGTGTAGAAACTGCCGGAAATCGTCGTGGTATTCACTCCAGAGCGATGAAAACGTTTCAGTTTGCTCATGGAAAACGGTGTAACATGGGTGAACACTATCCCATATCACCAGCTCACCGTCTTTCATTGCCATACGGAATTCTGGATGAGCATTCATCAGGCGGGCAAGAATGTGAATAAAGGCCGGATAAAACTTGTGCTTATTTTTCTTTACGGTTTTTAAAAAGGCCGTAATATCCAGCTGAACGGTCTGGTTATAGGTACATTGAGCAACTGACTGAAATGCCTCAAAATGTTCTTTACGATGCCATTGGGATATATCAACGGTGGTATATCCAGTGATTTTTTTCTCCATATTCTTCCTTTTTCAATATTATTGAAGCATTTATCAGGGTTATTGTCTCATGAGCGGATACATATTTGAATGTATTTAGAAAAATAAACAAATAGGGGTCAGTGTTACAACCAATTAACCAATTCTGATGCGCGTCTCTCCCCTTTGCCTGGCGGCAGTAGCGCGGTGGTCCCACCTGACCCCATGCCGAACTCAGAAGTGAAACGCCGTAGCGCCGATGGTAGTGTGGGGACTCCCCATGCGAGAGTAGGGAACTGCCAGGCATCAAATAAAACGAAAGGCTCAGTCGAAAGACTGGGCCTTTCGCCCGGGCTAATTAGGGGGTGTCGCCCTTATTCGACTCTATAGTGAAGTTCCTATTCTCTAGAAAGTATAGGAACTTCTGAAGTGGGGTATTCACGACAGCAGGCTGAATAATAAAAAAATTAGAAACTATTATTTAACCCTAGAAAGATAATCATATTGTGACGTACGTTAAAGATAATCATGCGTAAAATTGACGCATGTGTTTTATCGGTCTGTATATCGAGGTTTATTTATTAATTTGAATAGATATTAAGTTTTATTATATTTACACTTACATACTAATAATAAATTCAACAAACAATTTATTTATGTTTATTTATTTATTAAAAAAAAACAAAAACTCAAAATTTCTTCTATAAAGTAACAAAACTTTTAAACATTCTCTCTTTTACAAAAATAAACTTATTTTGTACTTTAAAAACAGTCATGTTGTATTATAAAATAAGTAATTAGCTTAACTTATACATAATAGAAACAAATTATACTTATTAGTCAGTCAGAAACAACTTTGGCACATATCAATATTATGCTCTCGACAAATAACTTTTTTGCATTTTTTGCACGATGCATTTGCCTTTCGCCTTATTTTAGAGGGGCAGTAAGTACAGTAAGTACGTTTTTTCATTACTGGCTCTTCAGTACTGTCATCTGATGTACCAGGCACTTCATTTGGCAAAATATTAGAGATATTATCGCGCAAATATCTCTTCAAAGTAGGAGCTTCTAAACGCTTACGCATAAACGATGACGTCAGGCTCATGTAAAGGTTTCTCATAAATTTTTTGCGACTTTGAACCTTTTCTCCCTTGCTACTGACATTATGGCTGTATATAATAAAAGAATTTATGCAGGCAATGTTTATCATTCCGTACAATAATGCCATAGGCCACCTATTCGTCTTCCTACTGCAGGTGCGGGTGCCAGGGCGTGCCCTTGGGCTCCCCGGGCGCGTACTCCACCTCACCCATGCGATCGCTCCGGAAAGATACATTGATGAGTTTGGACAAACCACAACTAGAATGCAGTGAAAAAAATGCTTTATTTGTGAAATTTGTGATGCTATTGCTTTATTTGTAACCATTATAAGCTGCAATAAACAAGTTAACAACAACAATTGCATTCATTTTATGTTTCAGGTTCAGGGGGAGGTGTGGGAGGTTTTTTAAAGCAAGTAAAACCTCTACAAATGTGGTATGGCTGATTATGATCTAGAGTCGCGGCCGCTACAGGAACAGGTGGTGGCGGCCCTCGGTGCGCTCGTACTGCTCCACGATGGTGTAGTCCTCGTTGTGGGAGGTGATGTCCAGCTTGGAGTCCACGTAGTAGTAGCCGGGCAGCTGCACGGGCTTCTTGGCCATGTAGATGGACTTGAACTCCACCAGGTAGTGGCCGCCGTCCTTCAGCTTCAGGGCCTTGTGGATCTCGCCCTTCAGCACGCCGTCGCGGGGGTACAGGCGCTCGGTGGAGGCCTCCCAGCCCATGGTCTTCTTCTGCATTACGGGGCCGTCGGAGGGGAAGTTCACGCCGATGAACTTCACCTTGTAGATGAAGCAGCCGTCCTGCAGGGAGGAGTCTTGGGTCACGGTCACCACGCCGCCGTCCTCGAAGTTCATCACGCGCTCCCACTTGAAGCCCTCGGGGAAGGACAGCTTCTTGTAGTCGGGGATGTCGGCGGGGTGCTTCACGTACACCTTGGAGCCGTACTGGAACTGGGGGGACAGGATGTCCCAGGCGAAGGGCAGGGGGCCGCCCTTGGTCACCTTCAGCTTCACGGTGTTGTGGCCCTCGTAGGGGCGGCCCTCGCCCTCGCCCTCGATCTCGAACTCGTGGCCGTTCACGGTGCCCTCCATGCGCACCTTGAAGCGCATGAACTCCTTGATGACGTTCTTGGAGGAGCGCACCATGGTGGCGACCTGTGGGTCCCGGGCCCGCGGTACCGTCGACTCTAGCGGTACCCCGATTGTTTAGCTTGTTCAGCTGCGCTTGTTTATTTGCTTAGCTTTCGCTTAGCGACGTGTTCACTTTGCTTGTTTGAATTGAATTGTCGCTCCGTAGACGAAGCGCCTCTATTTATACTCCGGCGGTCGAGGGTTCGAAATCGATAAGCTTGGATCCTAATTGAATTAGCTCTAATTGAATTAGTCTCTAATTGAATTAGATCCCCGGGCGAGCTCGAATTAACCATTGTGGACCGGTCAGCGCTGGCGGTGGGGACAGCTCCGGCTGTGGCTGTTCTTGCGAGTCCTCTTCCTGCGGCACATCCCTCTCGTCGACCAGTTCAGTTTGCTGAGCGTAAGCCTGCTGCTGTTCGTCCTGCATCATCGGGACCATTTGTATGGGCCATCCGCCACCACCACCATCACCACCGCCGTCCATTTCTAGGGGCATACCCATCAGCATCTCCGCGGGCGCCATTGGCGGTGGTGCCAAGGTGCCATTCGTTTGTTGCTGAAAGCAAAAGAAAGCAAATTAGTGTTGTTTCTGCTGCACACGATAATTTTCGTTTCTTGCCGCTAGACACAAACAACACTGCATCTGGAGGGAGAAATTTGACGCCTAGCTGTATAACTTACCTCAAAGTTATTGTCCATCGTGGTATAATGGACCTACCGAGCCCGGTTACACTACACAAAGCAAGATTATGCGACAAAATCACAGCGAAAACTAGTAATTTTCATCTATCGAAAGCGGCCGAGCAGAGAGTTGTTTGGTATTGCAACTTGACATTCTGCTGCGGGATAAACCGCGACGGGCTACCATGGCGCACCTGTCAGATGGCTGTCAAATTTGGCCCGGTTTGCGATATGGAGTGGGTGAAATTATATCCCACTCGCTGATCGTGAAAATAGACACCTGAAAACAATAATTGTTGTGTTAATTTTACATTTTGAAGAACAGCACAAGTTTTGCTGACAATATTTAATTACGTTTCGTTATCAACGGCACGGAAAGATTATCTCGCTGATTATCCCTCTCGCTCTCTCTGTCTATCATGTCCTGGTCGTTCTCGCGTCACCCCGGATAATCGAGAGACGCCATTTTTAATTTGAACTACTACACCGACAAGCATGCCGTGAGCTCTTTCAAGTTCTTCTGTCCGACCAAAGAAACAGAGAATACCGCCCGGACAGTGCCCGGAGTGATCGATCCATAGAAAATCGCCCATCATGTGCCACTGAGGCGAACCGGCGTAGCTTGTTCCGAATTTCCAAGTGCTTCCCCGTAACATCCGCATATAACAAACAGCCCAACAACAAATACAGCATCGAGCTCGAGATGGACTATAAGGACCACGACGGAGACTACAAGGATCATGATATTGATTACAAAGACGATGACGATAAGATGGCCCCAAAGAAGAAGCGGAAGGTCGGTATCCACGGAGTCCCAGCAGCCGACAAGAAGTACAGCATCGGCCTGGACATCGGCACCAACTCTGTGGGCTGGGCCGTGATCACCGACGAGTACAAGGTGCCCAGCAAGAAATTCAAGGTGCTGGGCAACACCGACCGGCACAGCATCAAGAAGAACCTGATCGGAGCCCTGCTGTTCGACAGCGGCGAAACAGCCGAGGCCACCCGGCTGAAGAGAACCGCCAGAAGAAGATACACCAGACGGAAGAACCGGATCTGCTATCTGCAAGAGATCTTCAGCAACGAGATGGCCAAGGTGGACGACAGCTTCTTCCACAGACTGGAAGAGTCCTTCCTGGTGGAAGAGGATAAGAAGCACGAGCGGCACCCCATCTTCGGCAACATCGTGGACGAGGTGGCCTACCACGAGAAGTACCCCACCATCTACCACCTGAGAAAGAAACTGGTGGACAGCACCGACAAGGCCGACCTGCGGCTGATCTATCTGGCCCTGGCCCACATGATCAAGTTCCGGGGCCACTTCCTGATCGAGGGCGACCTGAACCCCGACAACAGCGACGTGGACAAGCTGTTCATCCAGCTGGTGCAGACCTACAACCAGCTGTTCGAGGAAAACCCCATCAACGCCAGCGGCGTGGACGCCAAGGCCATCCTGTCTGCCAGACTGAGCAAGAGCAGACGGCTGGAAAATCTGATCGCCCAGCTGCCCGGCGAGAAGAAGAATGGCCTGTTCGGAAACCTGATTGCCCTGAGCCTGGGCCTGACCCCCAACTTCAAGAGCAACTTCGACCTGGCCGAGGATGCCAAACTGCAGCTGAGCAAGGACACCTACGACGACGACCTGGACAACCTGCTGGCCCAGATCGGCGACCAGTACGCCGACCTGTTTCTGGCCGCCAAGAACCTGTCCGACGCCATCCTGCTGAGCGACATCCTGAGAGTGAACACCGAGATCACCAAGGCCCCCCTGAGCGCCTCTATGATCAAGAGATACGACGAGCACCACCAGGACCTGACCCTGCTGAAAGCTCTCGTGCGGCAGCAGCTGCCTGAGAAGTACAAAGAGATTTTCTTCGACCAGAGCAAGAACGGCTACGCCGGCTACATTGACGGCGGAGCCAGCCAGGAAGAGTTCTACAAGTTCATCAAGCCCATCCTGGAAAAGATGGACGGCACCGAGGAACTGCTCGTGAAGCTGAACAGAGAGGACCTGCTGCGGAAGCAGCGGACCTTCGACAACGGCAGCATCCCCCACCAGATCCACCTGGGAGAGCTGCACGCCATTCTGCGGCGGCAGGAAGATTTTTACCCATTCCTGAAGGACAACCGGGAAAAGATCGAGAAGATCCTGACCTTCCGCATCCCCTACTACGTGGGCCCTCTGGCCAGGGGAAACAGCAGATTCGCCTGGATGACCAGAAAGAGCGAGGAAACCATCACCCCCTGGAACTTCGAGGAAGTGGTGGACAAGGGCGCTTCCGCCCAGAGCTTCATCGAGCGGATGACCAACTTCGATAAGAACCTGCCCAACGAGAAGGTGCTGCCCAAGCACAGCCTGCTGTACGAGTACTTCACCGTGTATAACGAGCTGACCAAAGTGAAATACGTGACCGAGGGAATGAGAAAGCCCGCCTTCCTGAGCGGCGAGCAGAAAAAGGCCATCGTGGACCTGCTGTTCAAGACCAACCGGAAAGTGACCGTGAAGCAGCTGAAAGAGGACTACTTCAAGAAAATCGAGTGCTTCGACTCCGTGGAAATCTCCGGCGTGGAAGATCGGTTCAACGCCTCCCTGGGCACATACCACGATCTGCTGAAAATTATCAAGGACAAGGACTTCCTGGACAATGAGGAAAACGAGGACATTCTGGAAGATATCGTGCTGACCCTGACACTGTTTGAGGACAGAGAGATGATCGAGGAACGGCTGAAAACCTATGCCCACCTGTTCGACGACAAAGTGATGAAGCAGCTGAAGCGGCGGAGATACACCGGCTGGGGCAGGCTGAGCCGGAAGCTGATCAACGGCATCCGGGACAAGCAGTCCGGCAAGACAATCCTGGATTTCCTGAAGTCCGACGGCTTCGCCAACAGAAACTTCATGCAGCTGATCCACGACGACAGCCTGACCTTTAAAGAGGACATCCAGAAAGCCCAGGTGTCCGGCCAGGGCGATAGCCTGCACGAGCACATTGCCAATCTGGCCGGCAGCCCCGCCATTAAGAAGGGCATCCTGCAGACAGTGAAGGTGGTGGACGAGCTCGTGAAAGTGATGGGCCGGCACAAGCCCGAGAACATCGTGATCGAAATGGCCAGAGAGAACCAGACCACCCAGAAGGGACAGAAGAACAGCCGCGAGAGAATGAAGCGGATCGAAGAGGGCATCAAAGAGCTGGGCAGCCAGATCCTGAAAGAACACCCCGTGGAAAACACCCAGCTGCAGAACGAGAAGCTGTACCTGTACTACCTGCAGAATGGGCGGGATATGTACGTGGACCAGGAACTGGACATCAACCGGCTGTCCGACTACGATGTGGACCATATCGTGCCTCAGAGCTTTCTGAAGGACGACTCCATCGACAACAAGGTGCTGACCAGAAGCGACAAGAACCGGGGCAAGAGCGACAACGTGCCCTCCGAAGAGGTCGTGAAGAAGATGAAGAACTACTGGCGGCAGCTGCTGAACGCCAAGCTGATTACCCAGAGAAAGTTCGACAATCTGACCAAGGCCGAGAGAGGCGGCCTGAGCGAACTGGATAAGGCCGGCTTCATCAAGAGACAGCTGGTGGAAACCCGGCAGATCACAAAGCACGTGGCACAGATCCTGGACTCCCGGATGAACACTAAGTACGACGAGAATGACAAGCTGATCCGGGAAGTGAAAGTGATCACCCTGAAGTCCAAGCTGGTGTCCGATTTCCGGAAGGATTTCCAGTTTTACAAAGTGCGCGAGATCAACAACTACCACCACGCCCACGACGCCTACCTGAACGCCGTCGTGGGAACCGCCCTGATCAAAAAGTACCCTAAGCTGGAAAGCGAGTTCGTGTACGGCGACTACAAGGTGTACGACGTGCGGAAGATGATCGCCAAGAGCGAGCAGGAAATCGGCAAGGCTACCGCCAAGTACTTCTTCTACAGCAACATCATGAACTTTTTCAAGACCGAGATTACCCTGGCCAACGGCGAGATCCGGAAGCGGCCTCTGATCGAGACAAACGGCGAAACCGGGGAGATCGTGTGGGATAAGGGCCGGGATTTTGCCACCGTGCGGAAAGTGCTGAGCATGCCCCAAGTGAATATCGTGAAAAAGACCGAGGTGCAGACAGGCGGCTTCAGCAAAGAGTCTATCCTGCCCAAGAGGAACAGCGATAAGCTGATCGCCAGAAAGAAGGACTGGGACCCTAAGAAGTACGGCGGCTTCGACAGCCCCACCGTGGCCTATTCTGTGCTGGTGGTGGCCAAAGTGGAAAAGGGCAAGTCCAAGAAACTGAAGAGTGTGAAAGAGCTGCTGGGGATCACCATCATGGAAAGAAGCAGCTTCGAGAAGAATCCCATCGACTTTCTGGAAGCCAAGGGCTACAAAGAAGTGAAAAAGGACCTGATCATCAAGCTGCCTAAGTACTCCCTGTTCGAGCTGGAAAACGGCCGGAAGAGAATGCTGGCCTCTGCCGGCGAACTGCAGAAGGGAAACGAACTGGCCCTGCCCTCCAAATATGTGAACTTCCTGTACCTGGCCAGCCACTATGAGAAGCTGAAGGGCTCCCCCGAGGATAATGAGCAGAAACAGCTGTTTGTGGAACAGCACAAGCACTACCTGGACGAGATCATCGAGCAGATCAGCGAGTTCTCCAAGAGAGTGATCCTGGCCGACGCTAATCTGGACAAAGTGCTGTCCGCCTACAACAAGCACCGGGATAAGCCCATCAGAGAGCAGGCCGAGAATATCATCCACCTGTTTACCCTGACCAATCTGGGAGCCCCTGCCGCCTTCAAGTACTTTGACACCACCATCGACCGGAAGAGGTACACCAGCACCAAAGAGGTGCTGGACGCCACCCTGATCCACCAGAGCATCACCGGCCTGTACGAGACACGGATCGACCTGTCTCAGCTGGGAGGCGACAAAAGGCCGGCGGCCACGAAAAAGGCCGGCCAGGCAAAAAAGAAAAAGTAATTAATTAAGAGGACGGCGAGAAGTAATCATATGTCCGCATTTTGCGCAAACCAGGCGCTTAGACAATTTGCGCGTAAGCACATTCGAAATGTGCAAAGCTGAAAGCAGTGGTTTCGCCAGCCCGAGTTCAGCGAAACGGATTCCTTCCAAGTGTTTGCATTCCTGGCGGAGTATTCCTCCCAAAATGCACTCACCCTGCGTGCAGTGCCAAATCGTGAGTTTCCTAATTTTTTCATATTGTTTATTACCTACCAACTAAAGTTGTTGTTATATATTGCGTTTTACGTACGACAAATAAGTTCGTATTCAGAAATATTTGCGATAAGAGAGAACTCATTTGCGATGAATCTCATTGTATTTAGCTAAGTGCCTTGATAAGTAAGCGGAACAGCAGGAATATGACACTCCTTGGGAAATACATGTAAGCGTCTGTGAATTAGATATATATACACGCAACCAAATGGTCCATGGTTGATTTAAGCACTGCCTGTTGTCGAACATTGCTATAAGCAAAATAAAGAAGCATTCATTAATCTAAAATTTCTTCAAAGTGACTTCAATGATGATCTCTAGGCTATAGTGAAAGCTGAAAGCTTATTCGACAATGCAAGGGAAAGTGACGCACGTGTGTCGTATGGGACCGCGCGCATTTATTCTCTCAGCTAATTCCCCTAATCATTAGTAATTGACGGCACGATTTCTGCTTCTTACTTCCTTTTACTTTGGAGCTTTTCATCAATAAAACCAGTACCATGGCCGTACGCTCAACGGAAAAGCATTCACAAAAACCCGCGTTCCTCGTGTGATTTGTGGGTGAGTGGCGCCATCTATTAGAGAATAGCTGTACTACATCTCGTGGACGAAGGGGTCAGAGAAGTTGAAAGAGAGCTTGATCGACTGCTATCCAAGCTAGGCGAGGAAGGGAGATCGCTAGAGCAAAAGAAAAAAAATAAGCAAATATCTTTTTTTATAACAAATCGACGTTAGCGAAATATGTTTGAATCGATTTAACGGTTAGAATTCCCTTTGGTTCGTTCATTATGCGAGGCGCGCCTTTGTATGCGTGCGCTTGAAGGGTTGATCGGAACCTTACAACAGTTGTAGCTATACGGCTGCGTGTGGCTTCTAACGTTATCCATCGCTAGAAGTGAAACGAATGTGCGTAGGTATATATATGAAATGGAGTTGCTCTCTGCTGTTTAACACAGGTCAAGCGGGTTTTAGAGCTAGAAATAGCAAGTTAAAATAAGGCTAGTCCGTTATCAACTTGAAAAAGTGGCACCGAGTCGGTGCTTTTTTTTACGCGTGGGTCCCATGGGTGAGGTGGAGTACGCGCCCGGGGAGCCCAAGGGCACGCCCTGGCACCCGCAGATCTCGGATCTGACAATGTTCAGTGCAGAGACTCGGCTACGCCTCGTGGACTTTGAAGTTGACCAACAATGTTTATTCTTACCTCTAATAGTCCTCTGTGGCAAGGTCAAGATTCTGTTAGAAGCCAATGAAGAACCTGGTTGTTCAATAACATTTTGTTCGTCTAATATTTCACTACCGCTTGACGTTGGCTGCACTTCATGTACCTCATCTATAAACGCTTCTTCTGTATCGCTCTGGACGTCATCTTCACTTACGTGATCTGATATTTCACTGTCAGAATCCTCACCAACAAGCTCGTCATCGCTTTGCAGAAGAGCAGAGAGGATATGCTCATCGTCTAAAGAACTACCCATTTTATTATATATTAGTCACGATATCTATAACAAGAAAATATATATATAATAAGTTATCACGTAAGTAGAACATGAAATAACAATATAATTATCGTATGAGTTAAATCTTAAAAGTCACGTAAAAGATAATCATGCGTCATTTTGACTCACGCGGTCGTTATAGTTCAAAATCAGTGACACTTACCGCATTGACAAGCACGCCTCACGGGAGCTCCAAGCGGCGACTGAGATGTCCTAAATGCACAGCGACGGATTCGCGCTATTTAGAAAGAGAGAGCAATATTTCAAGAATGCATGCGTCAATTTTACGCAGACTATCTTTCTAGGGTTAAAAAAGATTTGCGAAAATGAAGTGAAGTTCCTATACTTTCTAGAGAATAGGAACTTCTATAGTGAGTCGAATAAGGGCGACACAAAATTTATTCTAAATGCATAATAAATACTGATAACATCTTATAGTTTGTATTATATTTTGTATTATCGTTGACATGTATAATTTTGATATCAAAAACTGATTTTCCCTTTATTATTTTCGAGATTTATTTTCTTAATTCTCTTTAACAAACTAGAAATATTGTATATACAAAAAATCATAAATAATAGATGAATAGTTTAATTATAGGTGTTCATCAATCGAAAAAGCAACGTATCTTATTTAAAGTGCGTTGCTTTTTTCTCATTTATAAGGTT\n"
     ]
    }
   ],
   "source": [
    "#Podemos ver la secuencia completa \n",
    "\n",
    "print(record.seq)"
   ]
  },
  {
   "cell_type": "markdown",
   "id": "6b7c1aec",
   "metadata": {},
   "source": [
    "Importar nuevos paquetes para graficar"
   ]
  },
  {
   "cell_type": "code",
   "execution_count": 97,
   "id": "55a1ef9e",
   "metadata": {},
   "outputs": [],
   "source": [
    "import matplotlib.pyplot as plt\n",
    "import numpy as np\n",
    "from dna_features_viewer import BiopythonTranslator"
   ]
  },
  {
   "cell_type": "code",
   "execution_count": 101,
   "id": "bb681d4a",
   "metadata": {},
   "outputs": [
    {
     "data": {
      "image/png": "[encoded data removed]",
      "text/plain": [
       "<Figure size 864x288 with 2 Axes>"
      ]
     },
     "metadata": {},
     "output_type": "display_data"
    }
   ],
   "source": [
    "# Creando la figura\n",
    "\n",
    "fig,(ax1,ax2) = plt.subplots(2,1,figsize=(12,4))\n",
    "\n",
    "grafico=BiopythonTranslator().translate_record(record)\n",
    "grafico.plot(ax=ax1)\n",
    "\n",
    "y=[]\n",
    "\n",
    "for i in range (0, len(grafico.sequence)-100):\n",
    "    count=0\n",
    "    seq=grafico.sequence[i:1+100]\n",
    "    for n in seq:\n",
    "        if n in \"GC\":\n",
    "            count += 1\n",
    "        \n",
    "    y.append(count)\n",
    "    \n",
    "x=np.arange(len(grafico.sequence)-100)\n",
    "\n",
    "ax2.fill_between(x,y,alpha=0.5)\n",
    "ax2.set_ylabel(\"GC(%)\")\n",
    "\n",
    "plt.show()    "
   ]
  },
  {
   "cell_type": "markdown",
   "id": "402b6245",
   "metadata": {},
   "source": [
    "Realice un gráfico con otro Identificador"
   ]
  }
 ],
 "metadata": {
  "kernelspec": {
   "display_name": "Python 3 (ipykernel)",
   "language": "python",
   "name": "python3"
  },
  "language_info": {
   "codemirror_mode": {
    "name": "ipython",
    "version": 3
   },
   "file_extension": ".py",
   "mimetype": "text/x-python",
   "name": "python",
   "nbconvert_exporter": "python",
   "pygments_lexer": "ipython3",
   "version": "3.10.12"
  }
 },
 "nbformat": 4,
 "nbformat_minor": 5
}
